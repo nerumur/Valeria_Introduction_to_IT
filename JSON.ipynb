{
  "nbformat": 4,
  "nbformat_minor": 0,
  "metadata": {
    "colab": {
      "provenance": [],
      "authorship_tag": "ABX9TyPALQkczh+oc2sK3tKw2+gE",
      "include_colab_link": true
    },
    "kernelspec": {
      "name": "python3",
      "display_name": "Python 3"
    },
    "language_info": {
      "name": "python"
    }
  },
  "cells": [
    {
      "cell_type": "markdown",
      "metadata": {
        "id": "view-in-github",
        "colab_type": "text"
      },
      "source": [
        "<a href=\"https://colab.research.google.com/github/nerumur/Valeria_Introduction_to_IT/blob/main/%D0%B6%D1%81%D0%BE%D0%BD.ipynb\" target=\"_parent\"><img src=\"https://colab.research.google.com/assets/colab-badge.svg\" alt=\"Open In Colab\"/></a>"
      ]
    },
    {
      "cell_type": "code",
      "execution_count": null,
      "metadata": {
        "id": "X5nIDR9ZdUYI",
        "colab": {
          "base_uri": "https://localhost:8080/"
        },
        "outputId": "9c04f8d6-23b5-433e-83bb-2760dcd0f8c1"
      },
      "outputs": [
        {
          "output_type": "stream",
          "name": "stdout",
          "text": [
            "\n",
            "JSON data:\n",
            "{'Name': 'David', 'Class': 'I', 'Age': 6}\n",
            "\n",
            "Name:  David\n",
            "Class:  I\n",
            "Age:  6\n"
          ]
        }
      ],
      "source": [
        "#задание 1\n",
        "\n",
        "import json\n",
        "json_obj =  '{ \"Name\":\"David\", \"Class\":\"I\", \"Age\":6 }'\n",
        "python_obj = json.loads(json_obj)\n",
        "print(\"\\nJSON data:\")\n",
        "print(python_obj)\n",
        "print(\"\\nName: \",python_obj[\"Name\"])\n",
        "print(\"Class: \",python_obj[\"Class\"])\n",
        "print(\"Age: \",python_obj[\"Age\"])"
      ]
    },
    {
      "cell_type": "code",
      "source": [
        "#задание 2\n",
        "\n",
        "python_obj = {\n",
        "  \"name\": \"David\",\n",
        "  \"class\":\"I\",\n",
        "  \"age\": 6\n",
        "}\n",
        "\n",
        "print(type(python_obj))\n",
        "\n",
        "j_data = json.dumps(python_obj)\n",
        "\n",
        "print(j_data)"
      ],
      "metadata": {
        "colab": {
          "base_uri": "https://localhost:8080/"
        },
        "id": "T1pMC7yXaGhQ",
        "outputId": "a241bcae-91ba-4054-803e-b9cb31455778"
      },
      "execution_count": null,
      "outputs": [
        {
          "output_type": "stream",
          "name": "stdout",
          "text": [
            "<class 'dict'>\n",
            "{\"name\": \"David\", \"class\": \"I\", \"age\": 6}\n"
          ]
        }
      ]
    },
    {
      "cell_type": "code",
      "source": [
        "#задание 3\n",
        "\n",
        "python_dict =  {\"name\": \"David\", \"age\": 6, \"class\":\"I\"}\n",
        "python_list =  [\"Red\", \"Green\", \"Black\"]\n",
        "python_str =  \"Python Json\"\n",
        "python_int =  (1234)\n",
        "python_float =  (21.34)\n",
        "python_T =  (True)\n",
        "python_F =  (False)\n",
        "python_N =  (None)\n",
        "\n",
        "json_dict = json.dumps(python_dict)\n",
        "json_list = json.dumps(python_list)\n",
        "json_str = json.dumps(python_str)\n",
        "json_num1 = json.dumps(python_int)\n",
        "json_num2 = json.dumps(python_float)\n",
        "json_t = json.dumps(python_T)\n",
        "json_f = json.dumps(python_F)\n",
        "json_n = json.dumps(python_N)\n",
        "\n",
        "print(\"json dict : \", json_dict)\n",
        "print(\"jason list : \", json_list)\n",
        "print(\"json string : \", json_str)\n",
        "print(\"json number1 : \", json_num1)\n",
        "print(\"json number2 : \", json_num2)\n",
        "print(\"json true : \", json_t)\n",
        "print(\"json false : \", json_f)\n",
        "print(\"json null ; \", json_n)"
      ],
      "metadata": {
        "colab": {
          "base_uri": "https://localhost:8080/"
        },
        "id": "h6ZSw0D0bHhG",
        "outputId": "daf12b4b-ff60-4028-a1e7-8fab7cba2409"
      },
      "execution_count": null,
      "outputs": [
        {
          "output_type": "stream",
          "name": "stdout",
          "text": [
            "json dict :  {\"name\": \"David\", \"age\": 6, \"class\": \"I\"}\n",
            "jason list :  [\"Red\", \"Green\", \"Black\"]\n",
            "json string :  \"Python Json\"\n",
            "json number1 :  1234\n",
            "json number2 :  21.34\n",
            "json true :  true\n",
            "json false :  false\n",
            "json null ;  null\n"
          ]
        }
      ]
    },
    {
      "cell_type": "code",
      "source": [
        "#задание 4\n",
        "\n",
        "j_str = {'4': 5, '6': 7, '1': 3, '2': 4}\n",
        "print(\"Original String:\")\n",
        "print(j_str)\n",
        "print(\"\\nJSON data:\")\n",
        "print(json.dumps(j_str, sort_keys=True, indent=4))"
      ],
      "metadata": {
        "colab": {
          "base_uri": "https://localhost:8080/"
        },
        "id": "WG3YVV2TbSEY",
        "outputId": "d407f27e-397e-46b6-c4a7-d19588575a24"
      },
      "execution_count": null,
      "outputs": [
        {
          "output_type": "stream",
          "name": "stdout",
          "text": [
            "Original String:\n",
            "{'4': 5, '6': 7, '1': 3, '2': 4}\n",
            "\n",
            "JSON data:\n",
            "{\n",
            "    \"1\": 3,\n",
            "    \"2\": 4,\n",
            "    \"4\": 5,\n",
            "    \"6\": 7\n",
            "}\n"
          ]
        }
      ]
    },
    {
      "cell_type": "code",
      "source": [
        "#задание 7\n",
        "\n",
        "def encode_complex(object):\n",
        "    if isinstance(object, complex):\n",
        "        return [object.real, object.imag]\n",
        "    raise TypeError(repr(object) + \" is not JSON serialized\")\n",
        "\n",
        "complex_obj = json.dumps(2 + 3j, default=encode_complex)\n",
        "print(complex_obj)"
      ],
      "metadata": {
        "colab": {
          "base_uri": "https://localhost:8080/"
        },
        "id": "t5oEB4j-bwxb",
        "outputId": "5ca55c41-4336-44d7-b3ab-ac8a9142e332"
      },
      "execution_count": null,
      "outputs": [
        {
          "output_type": "stream",
          "name": "stdout",
          "text": [
            "[2.0, 3.0]\n"
          ]
        }
      ]
    },
    {
      "cell_type": "code",
      "source": [
        "#задание 8\n",
        "\n",
        "def is_complex_num(objct):\n",
        "    if '__complex__' in objct:\n",
        "        return complex(objct['real'], objct['img'])\n",
        "    return objct\n",
        "\n",
        "complex_object =json.loads('{\"__complex__\": true, \"real\": 4, \"img\": 5}', object_hook = is_complex_num)\n",
        "simple_object =json.loads('{\"real\": 4, \"img\": 3}', object_hook = is_complex_num)\n",
        "print(\"Complex_object: \",complex_object)\n",
        "print(\"Without complex object: \",simple_object)"
      ],
      "metadata": {
        "colab": {
          "base_uri": "https://localhost:8080/"
        },
        "id": "HGhm7g-vcQUR",
        "outputId": "d02fe0ad-c9f7-4c21-9ceb-3038296402b8"
      },
      "execution_count": null,
      "outputs": [
        {
          "output_type": "stream",
          "name": "stdout",
          "text": [
            "Complex_object:  (4+5j)\n",
            "Without complex object:  {'real': 4, 'img': 3}\n"
          ]
        }
      ]
    },
    {
      "cell_type": "code",
      "source": [
        "#задание 9\n",
        "\n",
        "python_obj = '{\"a\":  1, \"a\":  2, \"a\":  3, \"a\": 4, \"b\": 1, \"b\": 2}'\n",
        "print(\"Original Python object:\")\n",
        "print(python_obj)\n",
        "json_obj = json.loads(python_obj)\n",
        "print(\"\\nUnique Key in a JSON object:\")\n",
        "print(json_obj)\n"
      ],
      "metadata": {
        "colab": {
          "base_uri": "https://localhost:8080/"
        },
        "id": "NZ1K2tbZcTv8",
        "outputId": "9387ae6a-7287-4f6a-e667-e3d3bf5938b4"
      },
      "execution_count": null,
      "outputs": [
        {
          "output_type": "stream",
          "name": "stdout",
          "text": [
            "Original Python object:\n",
            "{\"a\":  1, \"a\":  2, \"a\":  3, \"a\": 4, \"b\": 1, \"b\": 2}\n",
            "\n",
            "Unique Key in a JSON object:\n",
            "{'a': 4, 'b': 2}\n"
          ]
        }
      ]
    }
  ]
}
